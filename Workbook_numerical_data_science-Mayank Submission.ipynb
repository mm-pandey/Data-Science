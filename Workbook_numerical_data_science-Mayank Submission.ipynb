{
 "cells": [
  {
   "cell_type": "code",
   "execution_count": 196,
   "metadata": {},
   "outputs": [
    {
     "data": {
      "text/plain": [
       "'D:\\\\Data Science\\\\Hackthon\\\\Rolls-Royce'"
      ]
     },
     "execution_count": 196,
     "metadata": {},
     "output_type": "execute_result"
    }
   ],
   "source": [
    "%pwd"
   ]
  },
  {
   "cell_type": "markdown",
   "metadata": {},
   "source": [
    "## Revision History\n",
    "\n",
    "Update with your details here\n",
    "\n",
    "Name: Mayank Mohan Pandey(mayankmohanpandey@gmail.com)\n",
    "\n",
    "Date: 11th Sept 2021"
   ]
  },
  {
   "cell_type": "markdown",
   "metadata": {},
   "source": [
    "## Basic problem statement \n",
    "Explore, understand and build on what factors influence energy consumption – for appliances and light - using the provided data for a house in Belgium. \n",
    "\n",
    "If it is feasible and/or required to build a model \n",
    "- can you outline the approach, \n",
    "- build a proof of concept model with the available data and \n",
    "- architect a scenario where/how the model could be used. \n",
    "\n",
    "Please answer below questions based on your understanding\n",
    "- How can we improve this perceived system?\n",
    "- what challenges do you see in deploying this system?\n",
    "- can you propose a timeline based on this PoC for this development?\n",
    "\n",
    "Please use the notebook to record your thought process and code. Once you have performed the assessment, respond back with your solution in 3 days. You will be required to walk through the notebook in a technical discussion. \n",
    "\n",
    "A basic workflow is defined via code comments, which you may use. Please ensure to include your references in the last cell. "
   ]
  },
  {
   "cell_type": "markdown",
   "metadata": {},
   "source": [
    "## Data Set Information\n",
    "\n",
    "The data set is at 10 min for about 4.5 months. The house temperature and humidity conditions were monitored with a ZigBee wireless sensor network. Each wireless node transmitted the temperature and humidity conditions around 3.3 min. Then, the wireless data was averaged for 10 minutes periods. The energy data was logged every 10 minutes with m-bus energy meters. Weather from the nearest airport weather station (Chievres Airport, Belgium) was downloaded from a public data set from Reliable Prognosis (rp5.ru), and merged together with the experimental data sets using the date and time column.\n",
    "\n",
    "Data repository : [link](http://archive.ics.uci.edu/ml/machine-learning-databases/00374/energydata_complete.csv)"
   ]
  },
  {
   "cell_type": "markdown",
   "metadata": {},
   "source": [
    "## Attribute Information\n",
    "* date : time year-month-day hour:minute:second\n",
    "* Appliances, energy use in Wh \n",
    "* lights, energy use of light fixtures in the house in Wh \n",
    "* T1, Temperature in kitchen area, in Celsius \n",
    "* RH_1, Humidity in kitchen area, in % \n",
    "* T2, Temperature in living room area, in Celsius \n",
    "* RH_2, Humidity in living room area, in % \n",
    "* T3, Temperature in laundry room area \n",
    "* RH_3, Humidity in laundry room area, in % \n",
    "* T4, Temperature in office room, in Celsius \n",
    "* RH_4, Humidity in office room, in % \n",
    "* T5, Temperature in bathroom, in Celsius \n",
    "* RH_5, Humidity in bathroom, in % \n",
    "* T6, Temperature outside the building (north side), in Celsius \n",
    "* RH_6, Humidity outside the building (north side), in % \n",
    "* T7, Temperature in ironing room , in Celsius \n",
    "* RH_7, Humidity in ironing room, in % \n",
    "* T8, Temperature in teenager room 2, in Celsius \n",
    "* RH_8, Humidity in teenager room 2, in % \n",
    "* T9, Temperature in parents room, in Celsius \n",
    "* RH_9, Humidity in parents room, in % \n",
    "* To, Temperature outside (from Chievres weather station), in Celsius \n",
    "* Pressure (from Chievres weather station), in mm Hg \n",
    "* RH_out, Humidity outside (from Chievres weather station), in % \n",
    "* Wind speed (from Chievres weather station), in m/s \n",
    "* Visibility (from Chievres weather station), in km \n",
    "* Tdewpoint (from Chievres weather station), in Deg C"
   ]
  },
  {
   "cell_type": "code",
   "execution_count": 142,
   "metadata": {},
   "outputs": [],
   "source": [
    "## The libraries you use\n",
    "import numpy as np\n",
    "import pandas as pd\n",
    "import matplotlib.pyplot as plt\n",
    "import seaborn as sns\n",
    "import sklearn\n",
    "from math import sqrt\n",
    "\n",
    "import statsmodels.api as sml\n",
    "from statsmodels import tools\n",
    "\n",
    "from sklearn.model_selection import train_test_split,GridSearchCV\n",
    "from sklearn import metrics\n",
    "from sklearn.metrics import mean_squared_error, r2_score\n",
    "\n",
    "from sklearn.preprocessing import StandardScaler\n",
    "\n",
    "\n",
    "from sklearn.linear_model import LinearRegression\n",
    "import xgboost as xgb\n",
    "\n",
    "\n",
    "import os\n",
    "os.chdir(\"D:\\\\Data Science\\\\Hackthon\\\\Rolls-Royce\")\n",
    "\n",
    "import warnings\n",
    "warnings.filterwarnings(\"ignore\")"
   ]
  },
  {
   "cell_type": "markdown",
   "metadata": {},
   "source": [
    "## Read data and basic data clean-up"
   ]
  },
  {
   "cell_type": "code",
   "execution_count": 143,
   "metadata": {},
   "outputs": [],
   "source": [
    "energy_data = pd.read_csv(\"energydata_complete.csv\")\n",
    "energy_data.drop(['date','rv1','rv2'],inplace=True,axis=1)\n",
    "energy_data = energy_data.drop_duplicates(keep='first')"
   ]
  },
  {
   "cell_type": "markdown",
   "metadata": {},
   "source": [
    "## strategy for missing value treatment"
   ]
  },
  {
   "cell_type": "code",
   "execution_count": 144,
   "metadata": {},
   "outputs": [
    {
     "data": {
      "text/plain": [
       "Appliances     0\n",
       "lights         0\n",
       "T1             0\n",
       "RH_1           0\n",
       "T2             0\n",
       "RH_2           0\n",
       "T3             0\n",
       "RH_3           0\n",
       "T4             0\n",
       "RH_4           0\n",
       "T5             0\n",
       "RH_5           0\n",
       "T6             0\n",
       "RH_6           0\n",
       "T7             0\n",
       "RH_7           0\n",
       "T8             0\n",
       "RH_8           0\n",
       "T9             0\n",
       "RH_9           0\n",
       "T_out          0\n",
       "Press_mm_hg    0\n",
       "RH_out         0\n",
       "Windspeed      0\n",
       "Visibility     0\n",
       "Tdewpoint      0\n",
       "dtype: int64"
      ]
     },
     "execution_count": 144,
     "metadata": {},
     "output_type": "execute_result"
    }
   ],
   "source": [
    "energy_data.isnull().sum()"
   ]
  },
  {
   "cell_type": "markdown",
   "metadata": {},
   "source": [
    "## Data exploration"
   ]
  },
  {
   "cell_type": "code",
   "execution_count": 145,
   "metadata": {},
   "outputs": [
    {
     "data": {
      "text/html": [
       "<div>\n",
       "<style scoped>\n",
       "    .dataframe tbody tr th:only-of-type {\n",
       "        vertical-align: middle;\n",
       "    }\n",
       "\n",
       "    .dataframe tbody tr th {\n",
       "        vertical-align: top;\n",
       "    }\n",
       "\n",
       "    .dataframe thead th {\n",
       "        text-align: right;\n",
       "    }\n",
       "</style>\n",
       "<table border=\"1\" class=\"dataframe\">\n",
       "  <thead>\n",
       "    <tr style=\"text-align: right;\">\n",
       "      <th></th>\n",
       "      <th>Appliances</th>\n",
       "      <th>lights</th>\n",
       "      <th>T1</th>\n",
       "      <th>RH_1</th>\n",
       "      <th>T2</th>\n",
       "      <th>RH_2</th>\n",
       "      <th>T3</th>\n",
       "      <th>RH_3</th>\n",
       "      <th>T4</th>\n",
       "      <th>RH_4</th>\n",
       "      <th>...</th>\n",
       "      <th>T8</th>\n",
       "      <th>RH_8</th>\n",
       "      <th>T9</th>\n",
       "      <th>RH_9</th>\n",
       "      <th>T_out</th>\n",
       "      <th>Press_mm_hg</th>\n",
       "      <th>RH_out</th>\n",
       "      <th>Windspeed</th>\n",
       "      <th>Visibility</th>\n",
       "      <th>Tdewpoint</th>\n",
       "    </tr>\n",
       "  </thead>\n",
       "  <tbody>\n",
       "    <tr>\n",
       "      <td>0</td>\n",
       "      <td>60</td>\n",
       "      <td>30</td>\n",
       "      <td>19.89</td>\n",
       "      <td>47.596667</td>\n",
       "      <td>19.2</td>\n",
       "      <td>44.790000</td>\n",
       "      <td>19.79</td>\n",
       "      <td>44.730000</td>\n",
       "      <td>19.000000</td>\n",
       "      <td>45.566667</td>\n",
       "      <td>...</td>\n",
       "      <td>18.2</td>\n",
       "      <td>48.900000</td>\n",
       "      <td>17.033333</td>\n",
       "      <td>45.53</td>\n",
       "      <td>6.600000</td>\n",
       "      <td>733.5</td>\n",
       "      <td>92.0</td>\n",
       "      <td>7.000000</td>\n",
       "      <td>63.000000</td>\n",
       "      <td>5.3</td>\n",
       "    </tr>\n",
       "    <tr>\n",
       "      <td>1</td>\n",
       "      <td>60</td>\n",
       "      <td>30</td>\n",
       "      <td>19.89</td>\n",
       "      <td>46.693333</td>\n",
       "      <td>19.2</td>\n",
       "      <td>44.722500</td>\n",
       "      <td>19.79</td>\n",
       "      <td>44.790000</td>\n",
       "      <td>19.000000</td>\n",
       "      <td>45.992500</td>\n",
       "      <td>...</td>\n",
       "      <td>18.2</td>\n",
       "      <td>48.863333</td>\n",
       "      <td>17.066667</td>\n",
       "      <td>45.56</td>\n",
       "      <td>6.483333</td>\n",
       "      <td>733.6</td>\n",
       "      <td>92.0</td>\n",
       "      <td>6.666667</td>\n",
       "      <td>59.166667</td>\n",
       "      <td>5.2</td>\n",
       "    </tr>\n",
       "    <tr>\n",
       "      <td>2</td>\n",
       "      <td>50</td>\n",
       "      <td>30</td>\n",
       "      <td>19.89</td>\n",
       "      <td>46.300000</td>\n",
       "      <td>19.2</td>\n",
       "      <td>44.626667</td>\n",
       "      <td>19.79</td>\n",
       "      <td>44.933333</td>\n",
       "      <td>18.926667</td>\n",
       "      <td>45.890000</td>\n",
       "      <td>...</td>\n",
       "      <td>18.2</td>\n",
       "      <td>48.730000</td>\n",
       "      <td>17.000000</td>\n",
       "      <td>45.50</td>\n",
       "      <td>6.366667</td>\n",
       "      <td>733.7</td>\n",
       "      <td>92.0</td>\n",
       "      <td>6.333333</td>\n",
       "      <td>55.333333</td>\n",
       "      <td>5.1</td>\n",
       "    </tr>\n",
       "    <tr>\n",
       "      <td>3</td>\n",
       "      <td>50</td>\n",
       "      <td>40</td>\n",
       "      <td>19.89</td>\n",
       "      <td>46.066667</td>\n",
       "      <td>19.2</td>\n",
       "      <td>44.590000</td>\n",
       "      <td>19.79</td>\n",
       "      <td>45.000000</td>\n",
       "      <td>18.890000</td>\n",
       "      <td>45.723333</td>\n",
       "      <td>...</td>\n",
       "      <td>18.1</td>\n",
       "      <td>48.590000</td>\n",
       "      <td>17.000000</td>\n",
       "      <td>45.40</td>\n",
       "      <td>6.250000</td>\n",
       "      <td>733.8</td>\n",
       "      <td>92.0</td>\n",
       "      <td>6.000000</td>\n",
       "      <td>51.500000</td>\n",
       "      <td>5.0</td>\n",
       "    </tr>\n",
       "    <tr>\n",
       "      <td>4</td>\n",
       "      <td>60</td>\n",
       "      <td>40</td>\n",
       "      <td>19.89</td>\n",
       "      <td>46.333333</td>\n",
       "      <td>19.2</td>\n",
       "      <td>44.530000</td>\n",
       "      <td>19.79</td>\n",
       "      <td>45.000000</td>\n",
       "      <td>18.890000</td>\n",
       "      <td>45.530000</td>\n",
       "      <td>...</td>\n",
       "      <td>18.1</td>\n",
       "      <td>48.590000</td>\n",
       "      <td>17.000000</td>\n",
       "      <td>45.40</td>\n",
       "      <td>6.133333</td>\n",
       "      <td>733.9</td>\n",
       "      <td>92.0</td>\n",
       "      <td>5.666667</td>\n",
       "      <td>47.666667</td>\n",
       "      <td>4.9</td>\n",
       "    </tr>\n",
       "  </tbody>\n",
       "</table>\n",
       "<p>5 rows × 26 columns</p>\n",
       "</div>"
      ],
      "text/plain": [
       "   Appliances  lights     T1       RH_1    T2       RH_2     T3       RH_3  \\\n",
       "0          60      30  19.89  47.596667  19.2  44.790000  19.79  44.730000   \n",
       "1          60      30  19.89  46.693333  19.2  44.722500  19.79  44.790000   \n",
       "2          50      30  19.89  46.300000  19.2  44.626667  19.79  44.933333   \n",
       "3          50      40  19.89  46.066667  19.2  44.590000  19.79  45.000000   \n",
       "4          60      40  19.89  46.333333  19.2  44.530000  19.79  45.000000   \n",
       "\n",
       "          T4       RH_4  ...    T8       RH_8         T9   RH_9     T_out  \\\n",
       "0  19.000000  45.566667  ...  18.2  48.900000  17.033333  45.53  6.600000   \n",
       "1  19.000000  45.992500  ...  18.2  48.863333  17.066667  45.56  6.483333   \n",
       "2  18.926667  45.890000  ...  18.2  48.730000  17.000000  45.50  6.366667   \n",
       "3  18.890000  45.723333  ...  18.1  48.590000  17.000000  45.40  6.250000   \n",
       "4  18.890000  45.530000  ...  18.1  48.590000  17.000000  45.40  6.133333   \n",
       "\n",
       "   Press_mm_hg  RH_out  Windspeed  Visibility  Tdewpoint  \n",
       "0        733.5    92.0   7.000000   63.000000        5.3  \n",
       "1        733.6    92.0   6.666667   59.166667        5.2  \n",
       "2        733.7    92.0   6.333333   55.333333        5.1  \n",
       "3        733.8    92.0   6.000000   51.500000        5.0  \n",
       "4        733.9    92.0   5.666667   47.666667        4.9  \n",
       "\n",
       "[5 rows x 26 columns]"
      ]
     },
     "execution_count": 145,
     "metadata": {},
     "output_type": "execute_result"
    }
   ],
   "source": [
    "energy_data.head()"
   ]
  },
  {
   "cell_type": "code",
   "execution_count": 146,
   "metadata": {},
   "outputs": [
    {
     "name": "stdout",
     "output_type": "stream",
     "text": [
      "<class 'pandas.core.frame.DataFrame'>\n",
      "Int64Index: 19735 entries, 0 to 19734\n",
      "Data columns (total 26 columns):\n",
      "Appliances     19735 non-null int64\n",
      "lights         19735 non-null int64\n",
      "T1             19735 non-null float64\n",
      "RH_1           19735 non-null float64\n",
      "T2             19735 non-null float64\n",
      "RH_2           19735 non-null float64\n",
      "T3             19735 non-null float64\n",
      "RH_3           19735 non-null float64\n",
      "T4             19735 non-null float64\n",
      "RH_4           19735 non-null float64\n",
      "T5             19735 non-null float64\n",
      "RH_5           19735 non-null float64\n",
      "T6             19735 non-null float64\n",
      "RH_6           19735 non-null float64\n",
      "T7             19735 non-null float64\n",
      "RH_7           19735 non-null float64\n",
      "T8             19735 non-null float64\n",
      "RH_8           19735 non-null float64\n",
      "T9             19735 non-null float64\n",
      "RH_9           19735 non-null float64\n",
      "T_out          19735 non-null float64\n",
      "Press_mm_hg    19735 non-null float64\n",
      "RH_out         19735 non-null float64\n",
      "Windspeed      19735 non-null float64\n",
      "Visibility     19735 non-null float64\n",
      "Tdewpoint      19735 non-null float64\n",
      "dtypes: float64(24), int64(2)\n",
      "memory usage: 4.1 MB\n"
     ]
    }
   ],
   "source": [
    "energy_data.info()"
   ]
  },
  {
   "cell_type": "code",
   "execution_count": 147,
   "metadata": {},
   "outputs": [
    {
     "data": {
      "text/html": [
       "<div>\n",
       "<style scoped>\n",
       "    .dataframe tbody tr th:only-of-type {\n",
       "        vertical-align: middle;\n",
       "    }\n",
       "\n",
       "    .dataframe tbody tr th {\n",
       "        vertical-align: top;\n",
       "    }\n",
       "\n",
       "    .dataframe thead th {\n",
       "        text-align: right;\n",
       "    }\n",
       "</style>\n",
       "<table border=\"1\" class=\"dataframe\">\n",
       "  <thead>\n",
       "    <tr style=\"text-align: right;\">\n",
       "      <th></th>\n",
       "      <th>Appliances</th>\n",
       "      <th>lights</th>\n",
       "      <th>T1</th>\n",
       "      <th>RH_1</th>\n",
       "      <th>T2</th>\n",
       "      <th>RH_2</th>\n",
       "      <th>T3</th>\n",
       "      <th>RH_3</th>\n",
       "      <th>T4</th>\n",
       "      <th>RH_4</th>\n",
       "      <th>...</th>\n",
       "      <th>T8</th>\n",
       "      <th>RH_8</th>\n",
       "      <th>T9</th>\n",
       "      <th>RH_9</th>\n",
       "      <th>T_out</th>\n",
       "      <th>Press_mm_hg</th>\n",
       "      <th>RH_out</th>\n",
       "      <th>Windspeed</th>\n",
       "      <th>Visibility</th>\n",
       "      <th>Tdewpoint</th>\n",
       "    </tr>\n",
       "  </thead>\n",
       "  <tbody>\n",
       "    <tr>\n",
       "      <td>count</td>\n",
       "      <td>19735.000000</td>\n",
       "      <td>19735.000000</td>\n",
       "      <td>19735.000000</td>\n",
       "      <td>19735.000000</td>\n",
       "      <td>19735.000000</td>\n",
       "      <td>19735.000000</td>\n",
       "      <td>19735.000000</td>\n",
       "      <td>19735.000000</td>\n",
       "      <td>19735.000000</td>\n",
       "      <td>19735.000000</td>\n",
       "      <td>...</td>\n",
       "      <td>19735.000000</td>\n",
       "      <td>19735.000000</td>\n",
       "      <td>19735.000000</td>\n",
       "      <td>19735.000000</td>\n",
       "      <td>19735.000000</td>\n",
       "      <td>19735.000000</td>\n",
       "      <td>19735.000000</td>\n",
       "      <td>19735.000000</td>\n",
       "      <td>19735.000000</td>\n",
       "      <td>19735.000000</td>\n",
       "    </tr>\n",
       "    <tr>\n",
       "      <td>mean</td>\n",
       "      <td>97.694958</td>\n",
       "      <td>3.801875</td>\n",
       "      <td>21.686571</td>\n",
       "      <td>40.259739</td>\n",
       "      <td>20.341219</td>\n",
       "      <td>40.420420</td>\n",
       "      <td>22.267611</td>\n",
       "      <td>39.242500</td>\n",
       "      <td>20.855335</td>\n",
       "      <td>39.026904</td>\n",
       "      <td>...</td>\n",
       "      <td>22.029107</td>\n",
       "      <td>42.936165</td>\n",
       "      <td>19.485828</td>\n",
       "      <td>41.552401</td>\n",
       "      <td>7.411665</td>\n",
       "      <td>755.522602</td>\n",
       "      <td>79.750418</td>\n",
       "      <td>4.039752</td>\n",
       "      <td>38.330834</td>\n",
       "      <td>3.760707</td>\n",
       "    </tr>\n",
       "    <tr>\n",
       "      <td>std</td>\n",
       "      <td>102.524891</td>\n",
       "      <td>7.935988</td>\n",
       "      <td>1.606066</td>\n",
       "      <td>3.979299</td>\n",
       "      <td>2.192974</td>\n",
       "      <td>4.069813</td>\n",
       "      <td>2.006111</td>\n",
       "      <td>3.254576</td>\n",
       "      <td>2.042884</td>\n",
       "      <td>4.341321</td>\n",
       "      <td>...</td>\n",
       "      <td>1.956162</td>\n",
       "      <td>5.224361</td>\n",
       "      <td>2.014712</td>\n",
       "      <td>4.151497</td>\n",
       "      <td>5.317409</td>\n",
       "      <td>7.399441</td>\n",
       "      <td>14.901088</td>\n",
       "      <td>2.451221</td>\n",
       "      <td>11.794719</td>\n",
       "      <td>4.194648</td>\n",
       "    </tr>\n",
       "    <tr>\n",
       "      <td>min</td>\n",
       "      <td>10.000000</td>\n",
       "      <td>0.000000</td>\n",
       "      <td>16.790000</td>\n",
       "      <td>27.023333</td>\n",
       "      <td>16.100000</td>\n",
       "      <td>20.463333</td>\n",
       "      <td>17.200000</td>\n",
       "      <td>28.766667</td>\n",
       "      <td>15.100000</td>\n",
       "      <td>27.660000</td>\n",
       "      <td>...</td>\n",
       "      <td>16.306667</td>\n",
       "      <td>29.600000</td>\n",
       "      <td>14.890000</td>\n",
       "      <td>29.166667</td>\n",
       "      <td>-5.000000</td>\n",
       "      <td>729.300000</td>\n",
       "      <td>24.000000</td>\n",
       "      <td>0.000000</td>\n",
       "      <td>1.000000</td>\n",
       "      <td>-6.600000</td>\n",
       "    </tr>\n",
       "    <tr>\n",
       "      <td>25%</td>\n",
       "      <td>50.000000</td>\n",
       "      <td>0.000000</td>\n",
       "      <td>20.760000</td>\n",
       "      <td>37.333333</td>\n",
       "      <td>18.790000</td>\n",
       "      <td>37.900000</td>\n",
       "      <td>20.790000</td>\n",
       "      <td>36.900000</td>\n",
       "      <td>19.530000</td>\n",
       "      <td>35.530000</td>\n",
       "      <td>...</td>\n",
       "      <td>20.790000</td>\n",
       "      <td>39.066667</td>\n",
       "      <td>18.000000</td>\n",
       "      <td>38.500000</td>\n",
       "      <td>3.666667</td>\n",
       "      <td>750.933333</td>\n",
       "      <td>70.333333</td>\n",
       "      <td>2.000000</td>\n",
       "      <td>29.000000</td>\n",
       "      <td>0.900000</td>\n",
       "    </tr>\n",
       "    <tr>\n",
       "      <td>50%</td>\n",
       "      <td>60.000000</td>\n",
       "      <td>0.000000</td>\n",
       "      <td>21.600000</td>\n",
       "      <td>39.656667</td>\n",
       "      <td>20.000000</td>\n",
       "      <td>40.500000</td>\n",
       "      <td>22.100000</td>\n",
       "      <td>38.530000</td>\n",
       "      <td>20.666667</td>\n",
       "      <td>38.400000</td>\n",
       "      <td>...</td>\n",
       "      <td>22.100000</td>\n",
       "      <td>42.375000</td>\n",
       "      <td>19.390000</td>\n",
       "      <td>40.900000</td>\n",
       "      <td>6.916667</td>\n",
       "      <td>756.100000</td>\n",
       "      <td>83.666667</td>\n",
       "      <td>3.666667</td>\n",
       "      <td>40.000000</td>\n",
       "      <td>3.433333</td>\n",
       "    </tr>\n",
       "    <tr>\n",
       "      <td>75%</td>\n",
       "      <td>100.000000</td>\n",
       "      <td>0.000000</td>\n",
       "      <td>22.600000</td>\n",
       "      <td>43.066667</td>\n",
       "      <td>21.500000</td>\n",
       "      <td>43.260000</td>\n",
       "      <td>23.290000</td>\n",
       "      <td>41.760000</td>\n",
       "      <td>22.100000</td>\n",
       "      <td>42.156667</td>\n",
       "      <td>...</td>\n",
       "      <td>23.390000</td>\n",
       "      <td>46.536000</td>\n",
       "      <td>20.600000</td>\n",
       "      <td>44.338095</td>\n",
       "      <td>10.408333</td>\n",
       "      <td>760.933333</td>\n",
       "      <td>91.666667</td>\n",
       "      <td>5.500000</td>\n",
       "      <td>40.000000</td>\n",
       "      <td>6.566667</td>\n",
       "    </tr>\n",
       "    <tr>\n",
       "      <td>max</td>\n",
       "      <td>1080.000000</td>\n",
       "      <td>70.000000</td>\n",
       "      <td>26.260000</td>\n",
       "      <td>63.360000</td>\n",
       "      <td>29.856667</td>\n",
       "      <td>56.026667</td>\n",
       "      <td>29.236000</td>\n",
       "      <td>50.163333</td>\n",
       "      <td>26.200000</td>\n",
       "      <td>51.090000</td>\n",
       "      <td>...</td>\n",
       "      <td>27.230000</td>\n",
       "      <td>58.780000</td>\n",
       "      <td>24.500000</td>\n",
       "      <td>53.326667</td>\n",
       "      <td>26.100000</td>\n",
       "      <td>772.300000</td>\n",
       "      <td>100.000000</td>\n",
       "      <td>14.000000</td>\n",
       "      <td>66.000000</td>\n",
       "      <td>15.500000</td>\n",
       "    </tr>\n",
       "  </tbody>\n",
       "</table>\n",
       "<p>8 rows × 26 columns</p>\n",
       "</div>"
      ],
      "text/plain": [
       "         Appliances        lights            T1          RH_1            T2  \\\n",
       "count  19735.000000  19735.000000  19735.000000  19735.000000  19735.000000   \n",
       "mean      97.694958      3.801875     21.686571     40.259739     20.341219   \n",
       "std      102.524891      7.935988      1.606066      3.979299      2.192974   \n",
       "min       10.000000      0.000000     16.790000     27.023333     16.100000   \n",
       "25%       50.000000      0.000000     20.760000     37.333333     18.790000   \n",
       "50%       60.000000      0.000000     21.600000     39.656667     20.000000   \n",
       "75%      100.000000      0.000000     22.600000     43.066667     21.500000   \n",
       "max     1080.000000     70.000000     26.260000     63.360000     29.856667   \n",
       "\n",
       "               RH_2            T3          RH_3            T4          RH_4  \\\n",
       "count  19735.000000  19735.000000  19735.000000  19735.000000  19735.000000   \n",
       "mean      40.420420     22.267611     39.242500     20.855335     39.026904   \n",
       "std        4.069813      2.006111      3.254576      2.042884      4.341321   \n",
       "min       20.463333     17.200000     28.766667     15.100000     27.660000   \n",
       "25%       37.900000     20.790000     36.900000     19.530000     35.530000   \n",
       "50%       40.500000     22.100000     38.530000     20.666667     38.400000   \n",
       "75%       43.260000     23.290000     41.760000     22.100000     42.156667   \n",
       "max       56.026667     29.236000     50.163333     26.200000     51.090000   \n",
       "\n",
       "       ...            T8          RH_8            T9          RH_9  \\\n",
       "count  ...  19735.000000  19735.000000  19735.000000  19735.000000   \n",
       "mean   ...     22.029107     42.936165     19.485828     41.552401   \n",
       "std    ...      1.956162      5.224361      2.014712      4.151497   \n",
       "min    ...     16.306667     29.600000     14.890000     29.166667   \n",
       "25%    ...     20.790000     39.066667     18.000000     38.500000   \n",
       "50%    ...     22.100000     42.375000     19.390000     40.900000   \n",
       "75%    ...     23.390000     46.536000     20.600000     44.338095   \n",
       "max    ...     27.230000     58.780000     24.500000     53.326667   \n",
       "\n",
       "              T_out   Press_mm_hg        RH_out     Windspeed    Visibility  \\\n",
       "count  19735.000000  19735.000000  19735.000000  19735.000000  19735.000000   \n",
       "mean       7.411665    755.522602     79.750418      4.039752     38.330834   \n",
       "std        5.317409      7.399441     14.901088      2.451221     11.794719   \n",
       "min       -5.000000    729.300000     24.000000      0.000000      1.000000   \n",
       "25%        3.666667    750.933333     70.333333      2.000000     29.000000   \n",
       "50%        6.916667    756.100000     83.666667      3.666667     40.000000   \n",
       "75%       10.408333    760.933333     91.666667      5.500000     40.000000   \n",
       "max       26.100000    772.300000    100.000000     14.000000     66.000000   \n",
       "\n",
       "          Tdewpoint  \n",
       "count  19735.000000  \n",
       "mean       3.760707  \n",
       "std        4.194648  \n",
       "min       -6.600000  \n",
       "25%        0.900000  \n",
       "50%        3.433333  \n",
       "75%        6.566667  \n",
       "max       15.500000  \n",
       "\n",
       "[8 rows x 26 columns]"
      ]
     },
     "execution_count": 147,
     "metadata": {},
     "output_type": "execute_result"
    }
   ],
   "source": [
    "energy_data.describe()"
   ]
  },
  {
   "cell_type": "code",
   "execution_count": 148,
   "metadata": {},
   "outputs": [
    {
     "name": "stdout",
     "output_type": "stream",
     "text": [
      "T_out  T6       0.974787\n",
      "T6     T_out    0.974787\n",
      "T7     T9       0.944776\n",
      "T9     T7       0.944776\n",
      "T5     T9       0.911055\n",
      "T9     T5       0.911055\n",
      "T3     T9       0.901324\n",
      "T9     T3       0.901324\n",
      "RH_3   RH_4     0.898978\n",
      "RH_4   RH_3     0.898978\n",
      "       RH_7     0.894301\n",
      "RH_7   RH_4     0.894301\n",
      "T3     T1       0.892402\n",
      "T1     T3       0.892402\n",
      "T4     T9       0.889439\n",
      "dtype: float64\n"
     ]
    }
   ],
   "source": [
    "#checing correlation\n",
    "corr = energy_data.corr().unstack()\n",
    "corr = corr[corr.index.get_level_values(0) != corr.index.get_level_values(1)].sort_values(ascending=False)[0:15]\n",
    "#corr.to_csv(\"correlation.csv\")\n",
    "print(corr)"
   ]
  },
  {
   "cell_type": "code",
   "execution_count": 149,
   "metadata": {},
   "outputs": [
    {
     "data": {
      "text/plain": [
       "<matplotlib.axes._subplots.AxesSubplot at 0x1d66743a408>"
      ]
     },
     "execution_count": 149,
     "metadata": {},
     "output_type": "execute_result"
    },
    {
     "data": {
      "image/png": "[encoded data removed]",
      "text/plain": [
       "<Figure size 1440x792 with 2 Axes>"
      ]
     },
     "metadata": {
      "needs_background": "light"
     },
     "output_type": "display_data"
    }
   ],
   "source": [
    "#heatmap\n",
    "plt.subplots(figsize=(20,11))\n",
    "sns.heatmap(energy_data.corr(),cmap='RdYlGn')"
   ]
  },
  {
   "cell_type": "code",
   "execution_count": 150,
   "metadata": {},
   "outputs": [],
   "source": [
    "#dropping correlated columns\n",
    "energy_data.drop(['T6','T9','Visibility'],inplace=True,axis=1)"
   ]
  },
  {
   "cell_type": "code",
   "execution_count": 151,
   "metadata": {},
   "outputs": [
    {
     "data": {
      "image/png": "[encoded data removed]",
      "text/plain": [
       "<Figure size 1440x1152 with 25 Axes>"
      ]
     },
     "metadata": {
      "needs_background": "light"
     },
     "output_type": "display_data"
    }
   ],
   "source": [
    "# Histogram of all the features to understand the distribution\n",
    "energy_data.hist(figsize= (20,16));"
   ]
  },
  {
   "cell_type": "code",
   "execution_count": 152,
   "metadata": {},
   "outputs": [
    {
     "data": {
      "image/png": "[encoded data removed]",
      "text/plain": [
       "<Figure size 2160x720 with 1 Axes>"
      ]
     },
     "metadata": {
      "needs_background": "light"
     },
     "output_type": "display_data"
    }
   ],
   "source": [
    "#checking outlier\n",
    "energy_data.boxplot(figsize= (30,10));"
   ]
  },
  {
   "cell_type": "code",
   "execution_count": 153,
   "metadata": {},
   "outputs": [
    {
     "name": "stdout",
     "output_type": "stream",
     "text": [
      "                     q1          q3        iqr       lower       upper\n",
      "Appliances    50.000000  100.000000  50.000000  -25.000000  175.000000\n",
      "lights         0.000000    0.000000   0.000000    0.000000    0.000000\n",
      "T1            20.760000   22.600000   1.840000   18.000000   25.360000\n",
      "RH_1          37.333333   43.066667   5.733333   28.733333   51.666667\n",
      "T2            18.790000   21.500000   2.710000   14.725000   25.565000\n",
      "RH_2          37.900000   43.260000   5.360000   29.860000   51.300000\n",
      "T3            20.790000   23.290000   2.500000   17.040000   27.040000\n",
      "RH_3          36.900000   41.760000   4.860000   29.610000   49.050000\n",
      "T4            19.530000   22.100000   2.570000   15.675000   25.955000\n",
      "RH_4          35.530000   42.156667   6.626667   25.590000   52.096667\n",
      "T5            18.277500   20.619643   2.342143   14.764286   24.132857\n",
      "RH_5          45.400000   53.663333   8.263333   33.005000   66.058333\n",
      "RH_6          30.025000   83.226667  53.201667  -49.777500  163.029167\n",
      "T7            18.700000   21.600000   2.900000   14.350000   25.950000\n",
      "RH_7          31.500000   39.000000   7.500000   20.250000   50.250000\n",
      "T8            20.790000   23.390000   2.600000   16.890000   27.290000\n",
      "RH_8          39.066667   46.536000   7.469333   27.862667   57.740000\n",
      "RH_9          38.500000   44.338095   5.838095   29.742857   53.095238\n",
      "T_out          3.666667   10.408333   6.741667   -6.445833   20.520833\n",
      "Press_mm_hg  750.933333  760.933333  10.000000  735.933333  775.933333\n",
      "RH_out        70.333333   91.666667  21.333333   38.333333  123.666667\n",
      "Windspeed      2.000000    5.500000   3.500000   -3.250000   10.750000\n",
      "Tdewpoint      0.900000    6.566667   5.666667   -7.600000   15.066667\n"
     ]
    }
   ],
   "source": [
    "# checking\n",
    "q1 = energy_data.quantile(0.25)\n",
    "q3 = energy_data.quantile(0.75)\n",
    "iqr = q3-q1\n",
    "low= q1-1.5*iqr\n",
    "high=q3+1.5*iqr\n",
    "\n",
    "quartile_table = {'q1':q1,'q3':q3,'iqr':iqr,'lower':low,'upper':high}\n",
    "print(pd.DataFrame(quartile_table) )"
   ]
  },
  {
   "cell_type": "code",
   "execution_count": 154,
   "metadata": {},
   "outputs": [
    {
     "data": {
      "text/plain": [
       "0     77.284013\n",
       "10    11.208513\n",
       "20     8.229035\n",
       "30     2.832531\n",
       "40     0.390170\n",
       "50     0.045604\n",
       "60     0.005067\n",
       "70     0.005067\n",
       "Name: lights, dtype: float64"
      ]
     },
     "execution_count": 154,
     "metadata": {},
     "output_type": "execute_result"
    }
   ],
   "source": [
    "#checking light column\n",
    "energy_data['lights'].value_counts()/len(energy_data)*100"
   ]
  },
  {
   "cell_type": "code",
   "execution_count": 155,
   "metadata": {},
   "outputs": [],
   "source": [
    "# dropping lights columns as it has more than 77% 0 sensor reading\n",
    "energy_data.drop('lights',inplace=True,axis=1)"
   ]
  },
  {
   "cell_type": "markdown",
   "metadata": {},
   "source": [
    "## key insights\n",
    "\n",
    "1. Temperature columns follows normal distribution, except T9\n",
    "2. Ouside sensor RH_6 and RH_out are not normally distributed\n",
    "3. Appliance have mean around 100 Wh, outlier are present\n",
    "4. Visibilty - Outliers are present\n",
    "5. All the temperature variables from T1-T9 and T_out have positive correlation with the target Appliances . \n",
    "6. a)High correlation between T9 — T3,T5,T7,T8 \n",
    "   b)T6 & T_Out has high correlation\n",
    "7. Humidity sesnors have no significant correlation\n",
    "8. Visibility, Tdewpoint, Press_mm_hg have low correlation with appliances\n",
    "9. Light column is not useful due to low fill rate\n",
    "10. Hence T6 & T9 can be removed from training set as information provided by them can be provided by other fields."
   ]
  },
  {
   "cell_type": "markdown",
   "metadata": {},
   "source": [
    "# model feasibility\n",
    "# feature engineering\n",
    "## model explainability"
   ]
  },
  {
   "cell_type": "code",
   "execution_count": 156,
   "metadata": {},
   "outputs": [
    {
     "name": "stdout",
     "output_type": "stream",
     "text": [
      "train mse: 0.15667713226136218\n",
      "train rmse: 0.39582462311150146\n",
      "train r2: 0.8433228677386378\n",
      "\n",
      "test mse: 0.591581222364708\n",
      "test rmse: 0.7691431741650627\n",
      "test r2: 0.4084187776352919\n"
     ]
    }
   ],
   "source": [
    "\n",
    "\n",
    "########Appliance#######################\n",
    "\n",
    "X_appl = energy_data[energy_data.columns.difference(['Appliances','lights'])]\n",
    "y_appl = energy_data[['Appliances']]\n",
    "\n",
    "X_train_appl, X_test_appl, y_train_appl, y_test_appl = train_test_split(X_appl, y_appl, test_size = 0.2, random_state = 0)\n",
    "\n",
    "sc=StandardScaler()\n",
    "\n",
    "#scaling appliance\n",
    "sc_X_train_appl = pd.DataFrame(columns=X_train_appl.columns , index=X_train_appl.index)\n",
    "sc_X_train_appl[sc_X_train_appl.columns] = sc.fit_transform(X_train_appl)##X\n",
    "sc_y_train_appl = pd.DataFrame(columns=y_train_appl.columns , index=y_train_appl.index)\n",
    "sc_y_train_appl[sc_y_train_appl.columns] = sc.fit_transform(y_train_appl)##y\n",
    "\n",
    "\n",
    "sc_X_test_appl= pd.DataFrame(columns=X_test_appl.columns , index=X_test_appl.index)\n",
    "sc_X_test_appl[sc_X_test_appl.columns] = sc.fit_transform(X_test_appl)##X\n",
    "sc_y_test_appl = pd.DataFrame(columns=y_test_appl.columns , index=y_test_appl.index)\n",
    "sc_y_test_appl[sc_y_test_appl.columns] = sc.fit_transform(y_test_appl)##y\n",
    "\n",
    "\n",
    "####model##\n",
    "#Regression\n",
    "\n",
    "regressor = LinearRegression()\n",
    "regressor.fit(sc_X_train_appl, sc_y_train_appl)\n",
    "\n",
    "#xgboost\n",
    "\n",
    "boost = xgb.XGBRegressor()\n",
    "boost.fit(sc_X_train_appl, sc_y_train_appl)\n",
    "\n",
    "#performance\n",
    "\n",
    "X_train_preds_appl = boost.predict(sc_X_train_appl)\n",
    "X_test_preds_appl = boost.predict(sc_X_test_appl)\n",
    "\n",
    "print('train mse: {}'.format(mean_squared_error(sc_y_train_appl, X_train_preds_appl)))\n",
    "print('train rmse: {}'.format(sqrt(mean_squared_error(sc_y_train_appl, X_train_preds_appl))))\n",
    "print('train r2: {}'.format(r2_score(sc_y_train_appl, X_train_preds_appl)))\n",
    "print()\n",
    "print('test mse: {}'.format(mean_squared_error(sc_y_test_appl, X_test_preds_appl)))\n",
    "print('test rmse: {}'.format(sqrt(mean_squared_error(sc_y_test_appl, X_test_preds_appl))))\n",
    "print('test r2: {}'.format(r2_score(sc_y_test_appl, X_test_preds_appl)))\n",
    "\n"
   ]
  },
  {
   "cell_type": "markdown",
   "metadata": {},
   "source": [
    "# model iterations and selection"
   ]
  },
  {
   "cell_type": "code",
   "execution_count": 192,
   "metadata": {},
   "outputs": [
    {
     "name": "stdout",
     "output_type": "stream",
     "text": [
      "Fitting 2 folds for each of 54 candidates, totalling 108 fits\n"
     ]
    },
    {
     "name": "stderr",
     "output_type": "stream",
     "text": [
      "[Parallel(n_jobs=5)]: Using backend LokyBackend with 5 concurrent workers.\n",
      "[Parallel(n_jobs=5)]: Done  40 tasks      | elapsed:   34.9s\n",
      "[Parallel(n_jobs=5)]: Done 108 out of 108 | elapsed:  1.9min finished\n"
     ]
    },
    {
     "name": "stdout",
     "output_type": "stream",
     "text": [
      "0.4514640495476666\n",
      "{'colsample_bytree': 0.7, 'learning_rate': 0.07, 'max_depth': 7, 'min_child_weight': 4, 'n_estimators': 500, 'objective': 'reg:linear', 'silent': 1, 'subsample': 0.7}\n"
     ]
    }
   ],
   "source": [
    "#Xgboost for Appliance\n",
    "\n",
    "\n",
    "#################################Appliance##################################################\n",
    "parameters = { \n",
    "              'objective':['reg:linear'],\n",
    "              'learning_rate': [.03, 0.05, .07], \n",
    "              'max_depth': [5, 6, 7],\n",
    "              'min_child_weight': [2,4],\n",
    "              'silent': [1],\n",
    "              'subsample': [0.7],\n",
    "              'colsample_bytree': [0.7],\n",
    "              'n_estimators': [50,100,500]}\n",
    "\n",
    "xgb_grid = GridSearchCV(boost,\n",
    "                        parameters,\n",
    "                        cv = 2,\n",
    "                        n_jobs = 5,\n",
    "                        verbose=True)\n",
    "xgb_grid.fit(sc_X_train_appl, sc_y_train_appl)\n",
    "\n",
    "print(xgb_grid.best_score_)\n",
    "print(xgb_grid.best_params_)"
   ]
  },
  {
   "cell_type": "code",
   "execution_count": 195,
   "metadata": {},
   "outputs": [
    {
     "data": {
      "text/plain": [
       "0.48728944987795486"
      ]
     },
     "execution_count": 195,
     "metadata": {},
     "output_type": "execute_result"
    }
   ],
   "source": [
    "# R2 score \n",
    "xgb_grid.best_estimator_.score(sc_X_test_appl,sc_y_test_appl)"
   ]
  },
  {
   "cell_type": "code",
   "execution_count": 193,
   "metadata": {},
   "outputs": [
    {
     "name": "stdout",
     "output_type": "stream",
     "text": [
      "       Features       imp\n",
      "15           T5  0.060729\n",
      "14           T4  0.055864\n",
      "10       RH_out  0.054874\n",
      "13           T3  0.052908\n",
      "16           T7  0.052548\n",
      "9          RH_9  0.049893\n",
      "11           T1  0.049189\n",
      "18        T_out  0.048519\n",
      "2          RH_2  0.047926\n",
      "6          RH_6  0.046751\n",
      "1          RH_1  0.046580\n",
      "3          RH_3  0.046429\n",
      "17           T8  0.044998\n",
      "8          RH_8  0.044983\n",
      "7          RH_7  0.044523\n",
      "4          RH_4  0.042527\n",
      "19    Tdewpoint  0.042476\n",
      "20    Windspeed  0.042392\n",
      "12           T2  0.042310\n",
      "0   Press_mm_hg  0.041866\n",
      "5          RH_5  0.041716\n"
     ]
    }
   ],
   "source": [
    "imp_feature = []\n",
    "colname= list(X_train_appl.columns)\n",
    "for i, f in zip(colname, xgb_grid.best_estimator_.feature_importances_):\n",
    "    imp_feature.append([i,f])\n",
    "    #print(i,round(f*100,2))\n",
    "    \n",
    "imp_feature = pd.DataFrame(imp_feature,columns=['Features','imp']).sort_values(by='imp',ascending=False)\n",
    "print(imp_feature)"
   ]
  },
  {
   "cell_type": "markdown",
   "metadata": {},
   "source": [
    "T5, T7,T4,T3,RH_Out are importance feature "
   ]
  },
  {
   "cell_type": "markdown",
   "metadata": {},
   "source": [
    "## Summary and next steps"
   ]
  },
  {
   "cell_type": "markdown",
   "metadata": {},
   "source": [
    "XgBoost regressor Algorithm used, as it perform better than Linear Regression.\n",
    "\n",
    "On test data: Tuned model performed better then untuned by 9%\n",
    "Untuned model = 40 % of variance \n",
    "Tuned Model = 49% of variance\n"
   ]
  },
  {
   "cell_type": "markdown",
   "metadata": {},
   "source": [
    "Please answer below questions based on your understanding\n",
    "- How can we improve this perceived system? \n",
    "Ans- a. Perform further feature engineer\n",
    "     b. Test other Algorithms\n",
    "     c. Add more paramter in the grid search with various value\n",
    "     d. Add more records--\n",
    "- what challenges do you see in deploying this system?\n",
    "Ans- Missing value treatment in light feature--if we need to really undertand and predict future usage\n",
    "     Identify genuine outliers on real time\n",
    "- can you propose a timeline based on this PoC for this development?\n",
    "Ans-  4-6weeks"
   ]
  },
  {
   "cell_type": "markdown",
   "metadata": {},
   "source": [
    "## References (add your references below)\n",
    "[1] Luis M. Candanedo, Veronique Feldheim, Dominique Deramaix, Data driven prediction models of energy use of appliances in a low-energy house, Energy and Buildings, Volume 140, 1 April 2017, Pages 81-97, ISSN 0378-7788,\n",
    "\n",
    "[2] Python documentation"
   ]
  }
 ],
 "metadata": {
  "kernelspec": {
   "display_name": "Python 3",
   "language": "python",
   "name": "python3"
  },
  "language_info": {
   "codemirror_mode": {
    "name": "ipython",
    "version": 3
   },
   "file_extension": ".py",
   "mimetype": "text/x-python",
   "name": "python",
   "nbconvert_exporter": "python",
   "pygments_lexer": "ipython3",
   "version": "3.7.4"
  }
 },
 "nbformat": 4,
 "nbformat_minor": 4
}
